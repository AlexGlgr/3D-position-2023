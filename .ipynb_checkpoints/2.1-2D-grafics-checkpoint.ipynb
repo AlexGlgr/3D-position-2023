{
 "cells": [
  {
   "cell_type": "markdown",
   "id": "54149f99",
   "metadata": {
    "editable": true,
    "slideshow": {
     "slide_type": ""
    },
    "tags": []
   },
   "source": [
    "## МОДУЛЬ ПРЕДНАЗНАЧЕН ДЛЯ ФОРМИРОВАНИЯ 2D ГРАФИКОВ С СДАННЫМИ ПОСТУПАЮЩИМИ С МИКРОСХЕМЫ СЕНСОРА - ГИРОСКОПА, АКСЕЛЕРОМЕТРА, МАГНИТОМЕТРА\n",
    "---"
   ]
  },
  {
   "cell_type": "markdown",
   "id": "8015916b",
   "metadata": {},
   "source": [
    "### Блок импорта библиотек необходимых для работы с 2D графиками"
   ]
  },
  {
   "cell_type": "code",
   "execution_count": null,
   "id": "6f41d2a0-0f53-456b-b264-2ce4b256ab11",
   "metadata": {
    "tags": []
   },
   "outputs": [],
   "source": [
    "# Подключить библиотеки для мат обработки данных и генерации случайных данных\n",
    "import numpy as np\n",
    "import random\n",
    "import math\n",
    "# Подключить библиотеки для работы с 2D графиками и анимации\n",
    "import matplotlib.pyplot as plt\n",
    "from matplotlib.ticker import MultipleLocator, FormatStrFormatter, AutoMinorLocator, NullFormatter\n",
    "import matplotlib.animation as an\n",
    "from IPython.display import display, clear_output\n",
    "# Подключить библиотеки для работы с датой/временем\n",
    "from datetime import datetime\n",
    "import time\n",
    "# Подключить библиотеки для асинхронной работы\n",
    "import asyncio"
   ]
  },
  {
   "cell_type": "markdown",
   "id": "43e23adb",
   "metadata": {},
   "source": [
    "### Блок настроек среды исполнения Jupyter lab"
   ]
  },
  {
   "cell_type": "code",
   "execution_count": null,
   "id": "27aa6c84",
   "metadata": {
    "tags": []
   },
   "outputs": [],
   "source": [
    "%matplotlib  widget\n",
    "#%matplotlib  inline"
   ]
  },
  {
   "cell_type": "markdown",
   "id": "91840a0b",
   "metadata": {
    "tags": []
   },
   "source": [
    "### Блок разработки функции создания фигуры в терминологии Matplotlib"
   ]
  },
  {
   "cell_type": "code",
   "execution_count": null,
   "id": "8b1058d6",
   "metadata": {
    "tags": []
   },
   "outputs": [],
   "source": [
    "'''\n",
    "Класс SetInterval реализует асинхронную модель работы метода 'run' аналогично\n",
    "функции setInterval в JavaScript\n",
    "'''\n",
    "class SetInterval:\n",
    "    def __init__(self, interval, fn):\n",
    "        self.interval = interval        # интервал вызова пользовательской функции 'fn'\n",
    "        self.fn = fn                    # пользовательский метод который будет асинхронно вызываться с заданным периодом\n",
    "        self.is_running = False         # идет выполнение 'run'\n",
    "        self.task = None\n",
    "        self.last_execution_time = None # вспомогательное поле для определения истинного времени между вызовами, отладочный код \n",
    "\n",
    "    '''\n",
    "    Метод 'run' является основным в реализации идеологии SetInterval, в нем происходит запуск \n",
    "    пользовательской функции 'fn'\n",
    "    '''\n",
    "    async def run(self):\n",
    "        self.is_running = True\n",
    "        while self.is_running:\n",
    "            self.calculate_elapsed_time()\n",
    "            self.fn()\n",
    "            await asyncio.sleep(self.interval)\n",
    "    \n",
    "    '''\n",
    "    Метод 'calculate_elapsed_time' вспомогательный отладочный метод, предназначенный для \n",
    "    вычисления времени между двумя вызовами основного метода 'run' в котором происходит\n",
    "    запуск пользовательского метода 'fn'.\n",
    "    Данный метод после отладки кода можно отключить, т.к. он только добавляет небольшую\n",
    "    трату вычислительных ресурсов.\n",
    "    '''\n",
    "    def calculate_elapsed_time(self):\n",
    "        current_time = time.time()\n",
    "        if self.last_execution_time is not None:\n",
    "            elapsed_time = current_time - self.last_execution_time\n",
    "            temp_delta = int(elapsed_time * 100000) / 100\n",
    "            print(f\"Delta time Python: {temp_delta} ms\")\n",
    "            \n",
    "        self.last_execution_time = current_time\n",
    "    \n",
    "    '''\n",
    "    Метод 'start' относится к сервисным, он непосредственно создает 'task' в терминологии\n",
    "    библиотеки 'asyncio' Python в который на запуск передается метод 'run', который фактически\n",
    "    вызывает запуск пользовательской функции 'fn'\n",
    "    '''\n",
    "    def start(self):\n",
    "        self.task = asyncio.create_task(self.run())\n",
    "    \n",
    "    '''\n",
    "    Метод 'stop' прекращает работу всей механики данного класса, фактически данный метод \n",
    "    аналогичен методу 'clearInterval' в JavaScript для 'setInterval'\n",
    "    '''\n",
    "    def stop(self):\n",
    "        self.is_running = False"
   ]
  },
  {
   "cell_type": "code",
   "execution_count": null,
   "id": "fdf16114-382b-4803-baa1-cfab13f9afa5",
   "metadata": {
    "editable": true,
    "slideshow": {
     "slide_type": ""
    },
    "tags": []
   },
   "outputs": [],
   "source": [
    "class Grafics2D:\n",
    "    # Аргументы конструктора:\n",
    "    # _opts  - словарь содержащий следующие значения:\n",
    "    #               -> figsize    - размер фигуры в дюймах, кортеж из двух значений типа *int*\n",
    "    #               -> nrows      - количество осей (графиков) по вертикали, значение типа *int*\n",
    "    #               -> suptitle   - подпись ко всей группе графиков в целом (к фигуре), тип *string*\n",
    "    #               -> abscissa   - подпись к оси абсцисс (ось X), такая подпись одна (!), относится к фигуре в целом, тип *string*\n",
    "    #               -> ordinate   - подпись к осям ординат (оси Y), кортеж типа *string*\n",
    "    #               -> facecolor  - цет заливки фона графика, кортеж типа *string*\n",
    "    #               -> alpha      - прозрачность цвета заливки графика, кортеж типа *int*\n",
    "    #               -> graphcolor - цвет кривой графика, кортеж типа *string*\n",
    "    #               -> xlim       - диапазон значений оси X Xmim, Xmax, кортеж из двух значений типа *int*\n",
    "    #               -> ylim       - диапазон значений оси Y Ymim, Ymax, кортеж из двух значений типа *int*\n",
    "    \n",
    "    def __init__( self, _opts ):\n",
    "\n",
    "        self.FigureOpt  = _opts            # поле хранит набор характеристик фигуры которую необходимо сгенерировать\n",
    "        \n",
    "        self.ValueLim   = _opts['xlim'][1] # количество значений сенсора хранящихся в массиве\n",
    "        self.IterNumber = 0                # поле хранит номер измерения, которое может быть целым числом в диапазоне 0...360\n",
    "\n",
    "        # заполнить '0' значениями массив отображаемых на графиках данных\n",
    "        self.Gyro  = [ [0] * self.ValueLim, [0] * self.ValueLim, [0] * self.ValueLim ]\n",
    "        self.Acc   = [ [0] * self.ValueLim, [0] * self.ValueLim, [0] * self.ValueLim ]\n",
    "        self.Mag   = [ [0] * self.ValueLim, [0] * self.ValueLim, [0] * self.ValueLim]\n",
    "\n",
    "        self.X      = np.arange( self.ValueLim )     # набор целых чисел, являющиеся отсчетами оси Х\n",
    "        \n",
    "        self.Figure = None                    # хранит сгенерированную 'figure'\n",
    "        self.Ax     = None                    # хранит сгенерированную 'axes'\n",
    "        self.Lines  = []                      # хранит собственно 'кривые' графиков\n",
    "\n",
    "    # Метод CreateVectorFigure на основе значения аргументов словаря 'FigureOpt', в соответствии ними возвращает фигуру с созданными\n",
    "    # и настроенными графиками. Особенность функции - она специфичным способом компонует графики:\n",
    "    #               ВСЕ ГРАФИКИ БУДУТ ВЫСТРОЕНЫ В ОДИН ВЕРТИКАЛЬНЫЙ СТОЛБЕЦ, ПО ОДНОМУ ГРАФИКУ В СТРОКЕ\n",
    "    #\n",
    "    # Возвращаемое значение:\n",
    "    #\n",
    "    # figure    - созданная функцией фигура\n",
    "    # ax        - созданные \"оси\" (суб-графики) в данной фигуре\n",
    "    #\n",
    "    def CreateVectorFigure( self ):\n",
    "        self.Figure = plt.figure( figsize = self.FigureOpt['figsize'] ) # создать фигуру\n",
    "        self.Ax = self.Figure.subplots( self.FigureOpt['nrows'], 1 )    # создать заданное количество осей Axes (графиков)\n",
    "        \n",
    "        # Сохранить 'кривые' графиков в мпссив\n",
    "        for i in range(self.FigureOpt['nrows']):\n",
    "            line, = self.Ax[i].plot(self.X, self.Acc[i])  \n",
    "            self.Lines.append(line)\n",
    "    \n",
    "        self.StartPropertyAxes() # задать характеристики отображения регионов построения графиков и собственно графиков\n",
    "    \n",
    "    # Метод StartPropertyAxes принимает ряд аргументов и в соответствии с ними задает \n",
    "    # ряд свойств области графика (не figure!) на этапе создания 'figure'. Данная функция\n",
    "    # предназначена только для задания стартовых свойств Axes ! Для задания свойств во время \n",
    "    # модификации необходимо использовать другой метод.\n",
    "    # Аргументы:\n",
    "    # _opts     - словарь содержащий следующие значения:\n",
    "    #               -> figure     - фигура (API matplotlib)\n",
    "    #               -> ax         - оси Axes переданной фигуры (API matlotlib)\n",
    "    #               -> suptitle   - подпись ко всей группе графиков в целом (к фигуре), тип *string*\n",
    "    #               -> abscissa   - подпись к оси абсцисс (ось X), такая подпись одна (!), относится к фигуре в целом, тип *string*\n",
    "    #               -> ordinate   - подпись к осям ординат (оси Y), кортеж типа *string*\n",
    "    #               -> facecolor  - цет заливки фона графика, кортеж типа *string*\n",
    "    #               -> alpha      - прозрачность цвета заливки графика, кортеж типа *int*\n",
    "    #               -> graphcolor - цвет кривой графика, кортеж типа *string*\n",
    "    #               -> xlim       - диапазон значений оси X Xmim, Xmax, кортеж из двух значений типа *int*\n",
    "    #               -> ylim       - диапазон значений оси Y Ymim, Ymax, кортеж из двух значений типа *int*\n",
    "\n",
    "    def StartPropertyAxes( self ):\n",
    "        \n",
    "        self.Figure.suptitle( self.FigureOpt['suptitle'] ) # задать подпись к фигуре в целом\n",
    "        _ax = self.Ax # создать временную локальную переменную\n",
    "    \n",
    "        # задать свойства осей и полигонов всех графиков\n",
    "        for i in np.arange( self.FigureOpt['nrows'] ):\n",
    "            _ax[i].set_ylabel( self.FigureOpt['ordinate'][i] , fontweight='bold' ) # задать жирное начертание для подписи к Y осям\n",
    "            _ax[i].yaxis.get_label().set_rotation(0)                               # задать вращение подписей Y осей\n",
    "        \n",
    "            # задать подпись к единственной, последней оси абсцисс (ось Х), она одна для всех графиков\n",
    "            _ax[i].set_xlabel( self.FigureOpt['abscissa'], fontweight='bold' ) if i == self.FigureOpt['nrows']-1 else None  \n",
    "        \n",
    "            # задать характеристики графика\n",
    "            rect = _ax[i].patch                                  # добавить объект-фигуру в 'rect'\n",
    "            rect.set_facecolor( self.FigureOpt['facecolor'][i] ) # задать цвет заливки фона графика\n",
    "            rect.set_alpha( self.FigureOpt['alpha'][i] )         # задать прозрачность заливки фона графика    \n",
    "        \n",
    "            # Задание минимального и максимального значения для оси X\n",
    "            _ax[i].set_xlim( self.FigureOpt['xlim'][0], self.FigureOpt['xlim'][1] )\n",
    "            # Задание минимального и максимального значения для оси Y\n",
    "            _ax[i].set_ylim( self.FigureOpt['ylim'][0], self.FigureOpt['ylim'][1] )\n",
    "\n",
    "\n",
    "    '''\n",
    "    Метод UpdatePropertyAxes обновляет  ряд свойств области графика (не фигуры!).\n",
    "    Данная функция предназначена для вызова при обновлении данных графика.\n",
    "    '''\n",
    "    \n",
    "    def UpdatePropertyAxes( self ):\n",
    "\n",
    "        self.Figure.suptitle( self.FigureOpt['suptitle'] ) # задать подпись к фигуре в целом\n",
    "        _ax = self.Ax                                      # создать временную локальную переменную\n",
    "    \n",
    "        # задать свойства осей и полигонов всех графиков\n",
    "        for i in np.arange( self.FigureOpt['nrows'] ):\n",
    "            #_ax[i].clear()\n",
    "            #_ax[i].plot(self.X, self.Acc[i])\n",
    "            self.Lines[i].set_data(self.X, self.Acc[i])\n",
    "            \n",
    "            _ax[i].set_ylabel( self.FigureOpt['ordinate'][i] , fontweight='bold' ) # задать жирное начертание для подписи к Y осям\n",
    "            _ax[i].yaxis.get_label().set_rotation(0)                               # задать вращение подписей Y осей\n",
    "        \n",
    "            # задать подпись к единственной, последней оси абсцисс (ось Х), она одна для всех графиков\n",
    "            _ax[i].set_xlabel( self.FigureOpt['abscissa'], fontweight='bold' ) if i == self.FigureOpt['nrows']-1 else None\n",
    "        \n",
    "            # задать характеристики графика\n",
    "            rect = _ax[i].patch                                  # добавить объект-фигуру в 'rect'\n",
    "            rect.set_facecolor( self.FigureOpt['facecolor'][i] ) # задать цвет заливки фона графика\n",
    "            rect.set_alpha( self.FigureOpt['alpha'][i] )         # задать прозрачность заливки фона графика    \n",
    "        \n",
    "            _ax[i].lines[0].set_color( self.FigureOpt['graphcolor'][i] ) # задать цвет кривой графика\n",
    "        \n",
    "            # Задание минимального и максимального значения для оси X\n",
    "            _ax[i].set_xlim( self.FigureOpt['xlim'][0], self.FigureOpt['xlim'][1] )\n",
    "            # Задание минимального и максимального значения для оси Y\n",
    "            _ax[i].set_ylim( self.FigureOpt['ylim'][0], self.FigureOpt['ylim'][1] )\n",
    "        \n",
    "            _ax[i].grid(True)\n",
    "    \n",
    "    #\n",
    "    #\n",
    "    #\n",
    "\n",
    "    def UpdateDataIMU(self):\n",
    "        data     = math.sin(math.radians( (self.IterNumber*360)/self.ValueLim )) # получить текущее значение sin(x)\n",
    "        \n",
    "        data_acc_x   = data + random.uniform(0, data*0.1) # подмешать 10% шумов\n",
    "        data_acc_y   = data + random.uniform(0, data*0.1) # подмешать 10% шумов\n",
    "        data_acc_z   = data + random.uniform(0, data*0.1) # подмешать 10% шумов\n",
    "\n",
    "        self.Acc[0].append(data_acc_x)\n",
    "        self.Acc[1].append(data_acc_y)\n",
    "        self.Acc[2].append(data_acc_z)\n",
    "\n",
    "        data_gyr_x = (data + random.uniform(0, data*0.1))*100  # масштабировать к 100 deg/s и подмешать 10% шумов\n",
    "        data_gyr_y = (data + random.uniform(0, data*0.1))*100  # масштабировать к 100 deg/s и подмешать 10% шумов\n",
    "        data_gyr_z = (data + random.uniform(0, data*0.1))*100  # масштабировать к 100 deg/s и подмешать 10% шумов\n",
    "\n",
    "        self.Gyro[0].append(data_gyr_x)\n",
    "        self.Gyro[1].append(data_gyr_y)\n",
    "        self.Gyro[2].append(data_gyr_z)\n",
    "\n",
    "        if len(self.Acc[0]) > self.ValueLim:\n",
    "            self.Acc[0].pop(0)\n",
    "            self.Acc[1].pop(0)\n",
    "            self.Acc[2].pop(0)\n",
    "\n",
    "            self.Gyro[0].pop(0)\n",
    "            self.Gyro[1].pop(0)\n",
    "            self.Gyro[2].pop(0)\n",
    "        \n",
    "        self.IterNumber += 1\n",
    "        self.IterNumber = 1 if self.IterNumber > 360 else self.IterNumber # обнулить счетчик итераций если он стал > 360\n",
    "    #\n",
    "    #\n",
    "    #\n",
    "    def UpdateGraph( self, frame ):\n",
    "        self.UpdateDataIMU()\n",
    "        self.UpdatePropertyAxes()"
   ]
  },
  {
   "cell_type": "markdown",
   "id": "3112c63c",
   "metadata": {
    "tags": []
   },
   "source": [
    "### Далее идет блок кода который предназначен для демонстрации работы построителя графиков и отображения"
   ]
  },
  {
   "cell_type": "code",
   "execution_count": null,
   "id": "e6f86ba9-6140-4731-8550-6415f53fe83b",
   "metadata": {
    "tags": []
   },
   "outputs": [],
   "source": [
    "# Создать объект 'options' для передачи в качестве аргумента в объект\n",
    "options_2 = {\n",
    "                'figsize': (8, 8),\n",
    "                'nrows': 3,\n",
    "                'suptitle': 'ГРАФИК ПОКАЗАНИЙ АКСЕЛЕРОМЕТРА',\n",
    "                'abscissa': 'N',\n",
    "                'ordinate': ('X', 'Y', 'Z'),\n",
    "                'facecolor': ('lightslategray', 'lightslategray', 'lightslategray'),\n",
    "                'alpha': (0.5, 0.5, 0.5),\n",
    "                'graphcolor': ('green', 'blue', 'red'),\n",
    "                'xlim': (0, 50),\n",
    "                'ylim': (-2, 2) }"
   ]
  },
  {
   "cell_type": "code",
   "execution_count": null,
   "id": "32b4a3d7",
   "metadata": {
    "editable": true,
    "slideshow": {
     "slide_type": ""
    },
    "tags": []
   },
   "outputs": [],
   "source": [
    "grafics_2D = Grafics2D( options_2 )\n",
    "grafics_2D.CreateVectorFigure()\n",
    "\n",
    "\n",
    "grafics_2D_anim = an.FuncAnimation(fig=grafics_2D.Figure , func=grafics_2D.UpdateGraph,  interval=200, save_count=1500) # frames=50,\n",
    "plt.show()\n",
    "Codec = an.writers['ffmpeg']\n",
    "VideoParam = Codec(fps=15, bitrate=1800) #metadata={'artist': 'Me'}\n",
    "\n",
    "grafics_2D_anim.save('Line-Graph-Animation.mp4', VideoParam)\n",
    "\n"
   ]
  },
  {
   "cell_type": "raw",
   "id": "2da86c04-6a3e-4a93-bddd-0bd86eeb6289",
   "metadata": {
    "tags": []
   },
   "source": [
    " del(grafics_2D_anim)"
   ]
  }
 ],
 "metadata": {
  "kernelspec": {
   "display_name": "Python 3 (ipykernel)",
   "language": "python",
   "name": "python3"
  },
  "language_info": {
   "codemirror_mode": {
    "name": "ipython",
    "version": 3
   },
   "file_extension": ".py",
   "mimetype": "text/x-python",
   "name": "python",
   "nbconvert_exporter": "python",
   "pygments_lexer": "ipython3",
   "version": "3.11.7"
  }
 },
 "nbformat": 4,
 "nbformat_minor": 5
}
