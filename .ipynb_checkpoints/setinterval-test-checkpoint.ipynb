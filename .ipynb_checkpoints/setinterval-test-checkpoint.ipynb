{
 "cells": [
  {
   "cell_type": "code",
   "execution_count": null,
   "id": "19b7f591-70e6-4257-bc28-feb621e23445",
   "metadata": {},
   "outputs": [],
   "source": [
    "import asyncio\n",
    "\n",
    "class SetInterval:\n",
    "    def __init__(self):\n",
    "        self.task = None\n",
    "\n",
    "    async def repeat(self, interval, func, *args):\n",
    "        while True:\n",
    "            await asyncio.sleep(interval)\n",
    "            await func(*args)\n",
    "\n",
    "    async def start_interval(self, interval, func, *args):\n",
    "        self.task = asyncio.create_task(self.repeat(interval, func, *args))\n",
    "\n",
    "    def cancel_interval(self):\n",
    "        if self.task:\n",
    "            self.task.cancel()\n",
    "\n",
    "# Пример использования\n",
    "async def hello():\n",
    "    print(\"Hello, World!\")\n",
    "    await asyncio.sleep(1)\n",
    "\n",
    "async def main():\n",
    "    interval = SetInterval()\n",
    "    await interval.start_interval(1.0, hello)\n",
    "    await asyncio.sleep(5)\n",
    "    interval.cancel_interval()\n",
    "\n",
    "await main()"
   ]
  }
 ],
 "metadata": {
  "kernelspec": {
   "display_name": "Python 3 (ipykernel)",
   "language": "python",
   "name": "python3"
  },
  "language_info": {
   "codemirror_mode": {
    "name": "ipython",
    "version": 3
   },
   "file_extension": ".py",
   "mimetype": "text/x-python",
   "name": "python",
   "nbconvert_exporter": "python",
   "pygments_lexer": "ipython3",
   "version": "3.11.3"
  }
 },
 "nbformat": 4,
 "nbformat_minor": 5
}
