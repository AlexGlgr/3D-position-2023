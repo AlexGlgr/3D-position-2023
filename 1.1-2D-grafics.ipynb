{
 "cells": [
  {
   "cell_type": "markdown",
   "id": "54149f99",
   "metadata": {
    "editable": true,
    "slideshow": {
     "slide_type": ""
    },
    "tags": []
   },
   "source": [
    "## ОСНОВНОЙ МОДУЛЬ\n",
    "---\n",
    "ОСНОВНОЙ МОДУЛЬ ПРЕДНАЗНАЧЕН СЧИТЫВАНИЯ ПОКАЗАНИЙ СО ВСЕХ СЕНСОРОВ ПРОЕКТА. ПОДГОТОВКИ ДАННЫХ ДЛЯ ОТОБРАЖЕНИЯ В ВИДЕ ГРАФИКОВ ЦИФРОВЫХ ПОКАЗАТЕЛЕЙ. ДЛЯ ФОРМИРОВАНИЯ 2D ГРАФИКОВ С СДАННЫМИ ПОСТУПАЮЩИМИ С МИКРОСХЕМЫ СЕНСОРА - ГИРОСКОПА, АКСЕЛЕРОМЕТРА, МАГНИТОМЕТРА"
   ]
  },
  {
   "cell_type": "markdown",
   "id": "8015916b",
   "metadata": {},
   "source": [
    "### Блок импорта библиотек необходимых для работы проекта"
   ]
  },
  {
   "cell_type": "code",
   "execution_count": 4,
   "id": "6f41d2a0-0f53-456b-b264-2ce4b256ab11",
   "metadata": {
    "tags": []
   },
   "outputs": [],
   "source": [
    "# Подключить библиотеки для мат обработки данных и генерации случайных данных\n",
    "import numpy as np\n",
    "import random\n",
    "import math\n",
    "\n",
    "# Подключить библиотеки для работы с 2D графиками\n",
    "import matplotlib.pyplot as plt\n",
    "from matplotlib.ticker import MultipleLocator, FormatStrFormatter, AutoMinorLocator, NullFormatter\n",
    "\n",
    "# Подключить библиотеки для работы анимацией\n",
    "import matplotlib.animation as an\n",
    "\n",
    "# Подключить библиотеки для работы с виджетами в Jupyter Notebook\n",
    "from IPython.display import display\n",
    "import ipywidgets as widgets\n",
    "\n",
    "# Подключить библиотеки для работы с датой/временем\n",
    "from datetime import datetime\n",
    "import time\n",
    "# Подключить библиотеки для асинхронной работы\n",
    "import asyncio\n",
    "\n",
    "# Подключить пользовательские модули\n",
    "# ---\n",
    "# Работа с интервалами в стиле setInterval JavaScript\n",
    "from py.lib.lib_setinterval_rev01_v01 import setInterval\n",
    "# Подключить модуль для работы с датчиком IMU ICM20948\n",
    "from py.lib.lib_imu_20948_horizon_rev01_v03 import *\n",
    "from py.lib.lib_figure2D_rev01_v01 import Figure2D"
   ]
  },
  {
   "cell_type": "markdown",
   "id": "43e23adb",
   "metadata": {},
   "source": [
    "### Блок настроек среды исполнения Jupyter lab"
   ]
  },
  {
   "cell_type": "code",
   "execution_count": 3,
   "id": "27aa6c84",
   "metadata": {
    "tags": []
   },
   "outputs": [],
   "source": [
    "# Задать режим работы отображения графической информации\n",
    "%matplotlib  widget\n",
    "\n",
    "# Инструкция требующая повторно перезагружать пользовательские функции после изменения их кода\n",
    "%load_ext autoreload\n",
    "%autoreload 2"
   ]
  },
  {
   "cell_type": "markdown",
   "id": "3112c63c",
   "metadata": {
    "tags": []
   },
   "source": [
    "### Блок визуализации 'сырых' данных Акселерометра"
   ]
  },
  {
   "cell_type": "code",
   "execution_count": 3,
   "id": "e6f86ba9-6140-4731-8550-6415f53fe83b",
   "metadata": {
    "tags": []
   },
   "outputs": [],
   "source": [
    "# Создать объект 'acc_options' содержащий настройки фигур Акселерометра\n",
    "acc_options = {\n",
    "                'figsize': (8, 8),\n",
    "                'nrows': 3,\n",
    "                'suptitle': 'ГРАФИК ПОКАЗАНИЙ АКСЕЛЕРОМЕТРА',\n",
    "                'abscissa': 'N',\n",
    "                'ordinate': ('X', 'Y', 'Z'),\n",
    "                'facecolor': ('lightslategray', 'lightslategray', 'lightslategray'),\n",
    "                'alpha': (0.5, 0.5, 0.5),\n",
    "                'graphcolor': ('green', 'blue', 'red'),\n",
    "                'xlim': (0, 50),\n",
    "                'ylim': (-2, 2) }"
   ]
  },
  {
   "cell_type": "code",
   "execution_count": null,
   "id": "32b4a3d7",
   "metadata": {
    "editable": true,
    "slideshow": {
     "slide_type": ""
    },
    "tags": []
   },
   "outputs": [],
   "source": [
    "acc_grafics2D_raw = Figure2D( acc_options )\n",
    "acc_grafics2D_raw.CreateVectorFigure()\n",
    "\n",
    "grafics_acc_raw_anim = an.FuncAnimation(fig=acc_grafics2D_raw.Figure, func=acc_grafics2D_raw.Update, interval=200, frames=50) # frames=50, save_count=1500\n",
    "# grafics_2D_anim = an.FuncAnimation(fig=grafics_2D.Figure, func=grafics_2D.UpdateGraph, interval=200, frames=50, save_count=1500) # сохраняет 1 500 кадров ?\n",
    "plt.show()\n",
    "\n",
    "#Codec = an.writers['ffmpeg']\n",
    "#VideoParam = Codec(fps=15, bitrate=1800) #metadata={'artist': 'Me'}\n",
    "#grafics_2D_anim.save('Line-Graph-Animation.mp4', VideoParam)\n",
    "\n"
   ]
  },
  {
   "cell_type": "raw",
   "id": "2da86c04-6a3e-4a93-bddd-0bd86eeb6289",
   "metadata": {
    "tags": []
   },
   "source": [
    " del(grafics_acc_raw_anim)"
   ]
  },
  {
   "cell_type": "markdown",
   "id": "aa94da32",
   "metadata": {},
   "source": [
    "### Блок визуализации 'сырых' данных Гироскопа"
   ]
  },
  {
   "cell_type": "code",
   "execution_count": null,
   "id": "49af8cca",
   "metadata": {},
   "outputs": [],
   "source": [
    "# Создать объект 'gyro_options' содержащий настройки фигур Гироскопа\n",
    "gyro_options = {\n",
    "                'figsize': (8, 8),\n",
    "                'nrows': 3,\n",
    "                'suptitle': 'ГРАФИК ПОКАЗАНИЙ ГИРОСКОПА',\n",
    "                'abscissa': 'N',\n",
    "                'ordinate': ('X', 'Y', 'Z'),\n",
    "                'facecolor': ('lightslategray', 'lightslategray', 'lightslategray'),\n",
    "                'alpha': (0.5, 0.5, 0.5),\n",
    "                'graphcolor': ('green', 'blue', 'red'),\n",
    "                'xlim': (0, 50),\n",
    "                'ylim': (-2, 2) }"
   ]
  },
  {
   "cell_type": "code",
   "execution_count": null,
   "id": "46e8ddb5",
   "metadata": {},
   "outputs": [],
   "source": [
    "gyro_grafics2D_raw = Figure2D( gyro_options )\n",
    "gyro_grafics2D_raw.CreateVectorFigure()\n",
    "\n",
    "grafics_gyro_raw_anim = an.FuncAnimation(fig=gyro_grafics2D_raw.Figure, func=gyro_grafics2D_raw.Update, interval=200, frames=50) # frames=50, save_count=1500\n",
    "# grafics_2D_anim = an.FuncAnimation(fig=grafics_2D.Figure, func=grafics_2D.UpdateGraph, interval=200, frames=50, save_count=1500) # сохраняет 1 500 кадров ?\n",
    "plt.show()"
   ]
  },
  {
   "cell_type": "markdown",
   "id": "5c7876bb",
   "metadata": {},
   "source": [
    "### Блок визуализации 'сырых' данных Магнитометра"
   ]
  }
 ],
 "metadata": {
  "kernelspec": {
   "display_name": "base",
   "language": "python",
   "name": "python3"
  },
  "language_info": {
   "codemirror_mode": {
    "name": "ipython",
    "version": 3
   },
   "file_extension": ".py",
   "mimetype": "text/x-python",
   "name": "python",
   "nbconvert_exporter": "python",
   "pygments_lexer": "ipython3",
   "version": "3.11.7"
  }
 },
 "nbformat": 4,
 "nbformat_minor": 5
}
