{
 "cells": [
  {
   "cell_type": "markdown",
   "id": "54149f99",
   "metadata": {
    "editable": true,
    "slideshow": {
     "slide_type": ""
    },
    "tags": []
   },
   "source": [
    "## МОДУЛЬ ПРЕДНАЗНАЧЕН ДЛЯ ФОРМИРОВАНИЯ 2D ГРАФИКОВ С СДАННЫМИ ПОСТУПАЮЩИМИ С МИКРОСХЕМЫ СЕНСОРА - ГИРОСКОПА, АКСЕЛЕРОМЕТРА, МАГНИТОМЕТРА\n",
    "---"
   ]
  },
  {
   "cell_type": "markdown",
   "id": "8015916b",
   "metadata": {},
   "source": [
    "### Блок импорта библиотек необходимых для работы с 2D графиками"
   ]
  },
  {
   "cell_type": "code",
   "execution_count": 1,
   "id": "6f41d2a0-0f53-456b-b264-2ce4b256ab11",
   "metadata": {
    "tags": []
   },
   "outputs": [],
   "source": [
    "# Подключить библиотеки для мат обработки данных и генерации случайных данных\n",
    "import numpy as np\n",
    "import random\n",
    "import math\n",
    "# Подключить библиотеки для работы с 2D графиками и анимации\n",
    "import matplotlib.pyplot as plt\n",
    "from matplotlib.ticker import MultipleLocator, FormatStrFormatter, AutoMinorLocator, NullFormatter\n",
    "import matplotlib.animation as an\n",
    "from IPython.display import display, clear_output\n",
    "# Подключить библиотеки для работы с датой/временем\n",
    "from datetime import datetime\n",
    "import time\n",
    "# Подключить библиотеки для асинхронной работы\n",
    "import asyncio"
   ]
  },
  {
   "cell_type": "markdown",
   "id": "43e23adb",
   "metadata": {},
   "source": [
    "### Блок настроек среды исполнения Jupyter lab"
   ]
  },
  {
   "cell_type": "code",
   "execution_count": 2,
   "id": "27aa6c84",
   "metadata": {
    "tags": []
   },
   "outputs": [],
   "source": [
    "%matplotlib  widget\n",
    "#%matplotlib  inline"
   ]
  },
  {
   "cell_type": "markdown",
   "id": "91840a0b",
   "metadata": {
    "tags": []
   },
   "source": [
    "### Блок разработки функции создания фигуры в терминологии Matplotlib"
   ]
  },
  {
   "cell_type": "code",
   "execution_count": 3,
   "id": "8b1058d6",
   "metadata": {
    "tags": []
   },
   "outputs": [],
   "source": [
    "'''\n",
    "Класс SetInterval реализует асинхронную модель работы метода 'run' аналогично\n",
    "функции setInterval в JavaScript\n",
    "'''\n",
    "class SetInterval:\n",
    "    def __init__(self, interval, fn):\n",
    "        self.interval = interval        # интервал вызова пользовательской функции 'fn'\n",
    "        self.fn = fn                    # пользовательский метод который будет асинхронно вызываться с заданным периодом\n",
    "        self.is_running = False         # идет выполнение 'run'\n",
    "        self.task = None\n",
    "        self.last_execution_time = None # вспомогательное поле для определения истинного времени между вызовами, отладочный код \n",
    "\n",
    "    '''\n",
    "    Метод 'run' является основным в реализации идеологии SetInterval, в нем происходит запуск \n",
    "    пользовательской функции 'fn'\n",
    "    '''\n",
    "    async def run(self):\n",
    "        self.is_running = True\n",
    "        while self.is_running:\n",
    "            self.calculate_elapsed_time()\n",
    "            self.fn()\n",
    "            await asyncio.sleep(self.interval)\n",
    "    \n",
    "    '''\n",
    "    Метод 'calculate_elapsed_time' вспомогательный отладочный метод, предназначенный для \n",
    "    вычисления времени между двумя вызовами основного метода 'run' в котором происходит\n",
    "    запуск пользовательского метода 'fn'.\n",
    "    Данный метод после отладки кода можно отключить, т.к. он только добавляет небольшую\n",
    "    трату вычислительных ресурсов.\n",
    "    '''\n",
    "    def calculate_elapsed_time(self):\n",
    "        current_time = time.time()\n",
    "        if self.last_execution_time is not None:\n",
    "            elapsed_time = current_time - self.last_execution_time\n",
    "            temp_delta = int(elapsed_time * 100000) / 100\n",
    "            print(f\"Delta time Python: {temp_delta} ms\")\n",
    "            \n",
    "        self.last_execution_time = current_time\n",
    "    \n",
    "    '''\n",
    "    Метод 'start' относится к сервисным, он непосредственно создает 'task' в терминологии\n",
    "    библиотеки 'asyncio' Python в который на запуск передается метод 'run', который фактически\n",
    "    вызывает запуск пользовательской функции 'fn'\n",
    "    '''\n",
    "    def start(self):\n",
    "        self.task = asyncio.create_task(self.run())\n",
    "    \n",
    "    '''\n",
    "    Метод 'stop' прекращает работу всей механики данного класса, фактически данный метод \n",
    "    аналогичен методу 'clearInterval' в JavaScript для 'setInterval'\n",
    "    '''\n",
    "    def stop(self):\n",
    "        self.is_running = False"
   ]
  },
  {
   "cell_type": "code",
   "execution_count": 4,
   "id": "fdf16114-382b-4803-baa1-cfab13f9afa5",
   "metadata": {
    "editable": true,
    "slideshow": {
     "slide_type": ""
    },
    "tags": []
   },
   "outputs": [],
   "source": [
    "class Grafics2D:\n",
    "    # Аргументы конструктора:\n",
    "    # _opts  - словарь содержащий следующие значения:\n",
    "    #               -> figsize    - размер фигуры в дюймах, кортеж из двух значений типа *int*\n",
    "    #               -> nrows      - количество осей (графиков) по вертикали, значение типа *int*\n",
    "    #               -> suptitle   - подпись ко всей группе графиков в целом (к фигуре), тип *string*\n",
    "    #               -> abscissa   - подпись к оси абсцисс (ось X), такая подпись одна (!), относится к фигуре в целом, тип *string*\n",
    "    #               -> ordinate   - подпись к осям ординат (оси Y), кортеж типа *string*\n",
    "    #               -> facecolor  - цет заливки фона графика, кортеж типа *string*\n",
    "    #               -> alpha      - прозрачность цвета заливки графика, кортеж типа *int*\n",
    "    #               -> graphcolor - цвет кривой графика, кортеж типа *string*\n",
    "    #               -> xlim       - диапазон значений оси X Xmim, Xmax, кортеж из двух значений типа *int*\n",
    "    #               -> ylim       - диапазон значений оси Y Ymim, Ymax, кортеж из двух значений типа *int*\n",
    "    \n",
    "    def __init__( self, _opts ):\n",
    "\n",
    "        self.FigureOpt  = _opts            # поле хранит набор характеристик фигуры которую необходимо сгенерировать\n",
    "        \n",
    "        self.ValueLim   = _opts['xlim'][1] # количество значений сенсора хранящихся в массиве\n",
    "        self.IterNumber = 0                # поле хранит номер измерения, которое может быть целым числом в диапазоне 0...360\n",
    "\n",
    "        # заполнить '0' значениями массив отображаемых на графиках данных\n",
    "        self.Gyro  = [ [0] * self.ValueLim, [0] * self.ValueLim, [0] * self.ValueLim ]\n",
    "        self.Acc   = [ [0] * self.ValueLim, [0] * self.ValueLim, [0] * self.ValueLim ]\n",
    "        self.Mag   = [ [0] * self.ValueLim, [0] * self.ValueLim, [0] * self.ValueLim]\n",
    "\n",
    "        self.X      = np.arange( self.ValueLim )     # набор целых чисел, являющиеся отсчетами оси Х\n",
    "        \n",
    "        self.Figure = None                    # хранит сгенерированную 'figure'\n",
    "        self.Ax     = None                    # хранит сгенерированную 'axes'\n",
    "        self.Lines  = []                      # хранит собственно 'кривые' графиков\n",
    "\n",
    "    # Метод CreateVectorFigure на основе значения аргументов словаря 'FigureOpt', в соответствии ними возвращает фигуру с созданными\n",
    "    # и настроенными графиками. Особенность функции - она специфичным способом компонует графики:\n",
    "    #               ВСЕ ГРАФИКИ БУДУТ ВЫСТРОЕНЫ В ОДИН ВЕРТИКАЛЬНЫЙ СТОЛБЕЦ, ПО ОДНОМУ ГРАФИКУ В СТРОКЕ\n",
    "    #\n",
    "    # Возвращаемое значение:\n",
    "    #\n",
    "    # figure    - созданная функцией фигура\n",
    "    # ax        - созданные \"оси\" (суб-графики) в данной фигуре\n",
    "    #\n",
    "    def CreateVectorFigure( self ):\n",
    "        self.Figure = plt.figure( figsize = self.FigureOpt['figsize'] ) # создать фигуру\n",
    "        self.Ax = self.Figure.subplots( self.FigureOpt['nrows'], 1 )    # создать заданное количество осей Axes (графиков)\n",
    "        \n",
    "        # Сохранить 'кривые' графиков в мпссив\n",
    "        for i in range(self.FigureOpt['nrows']):\n",
    "            line, = self.Ax[i].plot(self.X, self.Acc[i])  \n",
    "            self.Lines.append(line)\n",
    "    \n",
    "        self.StartPropertyAxes() # задать характеристики отображения регионов построения графиков и собственно графиков\n",
    "    \n",
    "    # Метод StartPropertyAxes принимает ряд аргументов и в соответствии с ними задает \n",
    "    # ряд свойств области графика (не figure!) на этапе создания 'figure'. Данная функция\n",
    "    # предназначена только для задания стартовых свойств Axes ! Для задания свойств во время \n",
    "    # модификации необходимо использовать другой метод.\n",
    "    # Аргументы:\n",
    "    # _opts     - словарь содержащий следующие значения:\n",
    "    #               -> figure     - фигура (API matplotlib)\n",
    "    #               -> ax         - оси Axes переданной фигуры (API matlotlib)\n",
    "    #               -> suptitle   - подпись ко всей группе графиков в целом (к фигуре), тип *string*\n",
    "    #               -> abscissa   - подпись к оси абсцисс (ось X), такая подпись одна (!), относится к фигуре в целом, тип *string*\n",
    "    #               -> ordinate   - подпись к осям ординат (оси Y), кортеж типа *string*\n",
    "    #               -> facecolor  - цет заливки фона графика, кортеж типа *string*\n",
    "    #               -> alpha      - прозрачность цвета заливки графика, кортеж типа *int*\n",
    "    #               -> graphcolor - цвет кривой графика, кортеж типа *string*\n",
    "    #               -> xlim       - диапазон значений оси X Xmim, Xmax, кортеж из двух значений типа *int*\n",
    "    #               -> ylim       - диапазон значений оси Y Ymim, Ymax, кортеж из двух значений типа *int*\n",
    "\n",
    "    def StartPropertyAxes( self ):\n",
    "        \n",
    "        self.Figure.suptitle( self.FigureOpt['suptitle'] ) # задать подпись к фигуре в целом\n",
    "        _ax = self.Ax # создать временную локальную переменную\n",
    "    \n",
    "        # задать свойства осей и полигонов всех графиков\n",
    "        for i in np.arange( self.FigureOpt['nrows'] ):\n",
    "            _ax[i].set_ylabel( self.FigureOpt['ordinate'][i] , fontweight='bold' ) # задать жирное начертание для подписи к Y осям\n",
    "            _ax[i].yaxis.get_label().set_rotation(0)                               # задать вращение подписей Y осей\n",
    "        \n",
    "            # задать подпись к единственной, последней оси абсцисс (ось Х), она одна для всех графиков\n",
    "            _ax[i].set_xlabel( self.FigureOpt['abscissa'], fontweight='bold' ) if i == self.FigureOpt['nrows']-1 else None  \n",
    "        \n",
    "            # задать характеристики графика\n",
    "            rect = _ax[i].patch                                  # добавить объект-фигуру в 'rect'\n",
    "            rect.set_facecolor( self.FigureOpt['facecolor'][i] ) # задать цвет заливки фона графика\n",
    "            rect.set_alpha( self.FigureOpt['alpha'][i] )         # задать прозрачность заливки фона графика    \n",
    "        \n",
    "            # Задание минимального и максимального значения для оси X\n",
    "            _ax[i].set_xlim( self.FigureOpt['xlim'][0], self.FigureOpt['xlim'][1] )\n",
    "            # Задание минимального и максимального значения для оси Y\n",
    "            _ax[i].set_ylim( self.FigureOpt['ylim'][0], self.FigureOpt['ylim'][1] )\n",
    "\n",
    "\n",
    "    '''\n",
    "    Метод UpdatePropertyAxes обновляет  ряд свойств области графика (не фигуры!).\n",
    "    Данная функция предназначена для вызова при обновлении данных графика.\n",
    "    '''\n",
    "    \n",
    "    def UpdatePropertyAxes( self ):\n",
    "\n",
    "        self.Figure.suptitle( self.FigureOpt['suptitle'] ) # задать подпись к фигуре в целом\n",
    "        _ax = self.Ax                                      # создать временную локальную переменную\n",
    "    \n",
    "        # задать свойства осей и полигонов всех графиков\n",
    "        for i in np.arange( self.FigureOpt['nrows'] ):\n",
    "            #_ax[i].clear()\n",
    "            #_ax[i].plot(self.X, self.Acc[i])\n",
    "            self.Lines[i].set_data(self.X, self.Acc[i])\n",
    "            \n",
    "            _ax[i].set_ylabel( self.FigureOpt['ordinate'][i] , fontweight='bold' ) # задать жирное начертание для подписи к Y осям\n",
    "            _ax[i].yaxis.get_label().set_rotation(0)                               # задать вращение подписей Y осей\n",
    "        \n",
    "            # задать подпись к единственной, последней оси абсцисс (ось Х), она одна для всех графиков\n",
    "            _ax[i].set_xlabel( self.FigureOpt['abscissa'], fontweight='bold' ) if i == self.FigureOpt['nrows']-1 else None\n",
    "        \n",
    "            # задать характеристики графика\n",
    "            rect = _ax[i].patch                                  # добавить объект-фигуру в 'rect'\n",
    "            rect.set_facecolor( self.FigureOpt['facecolor'][i] ) # задать цвет заливки фона графика\n",
    "            rect.set_alpha( self.FigureOpt['alpha'][i] )         # задать прозрачность заливки фона графика    \n",
    "        \n",
    "            _ax[i].lines[0].set_color( self.FigureOpt['graphcolor'][i] ) # задать цвет кривой графика\n",
    "        \n",
    "            # Задание минимального и максимального значения для оси X\n",
    "            _ax[i].set_xlim( self.FigureOpt['xlim'][0], self.FigureOpt['xlim'][1] )\n",
    "            # Задание минимального и максимального значения для оси Y\n",
    "            _ax[i].set_ylim( self.FigureOpt['ylim'][0], self.FigureOpt['ylim'][1] )\n",
    "        \n",
    "            _ax[i].grid(True)\n",
    "    \n",
    "    #\n",
    "    #\n",
    "    #\n",
    "\n",
    "    def UpdateDataIMU(self):\n",
    "        data     = math.sin(math.radians( (self.IterNumber*360)/self.ValueLim )) # получить текущее значение sin(x)\n",
    "        \n",
    "        data_acc_x   = data + random.uniform(0, data*0.1) # подмешать 10% шумов\n",
    "        data_acc_y   = data + random.uniform(0, data*0.1) # подмешать 10% шумов\n",
    "        data_acc_z   = data + random.uniform(0, data*0.1) # подмешать 10% шумов\n",
    "\n",
    "        self.Acc[0].append(data_acc_x)\n",
    "        self.Acc[1].append(data_acc_y)\n",
    "        self.Acc[2].append(data_acc_z)\n",
    "\n",
    "        data_gyr_x = (data + random.uniform(0, data*0.1))*100  # масштабировать к 100 deg/s и подмешать 10% шумов\n",
    "        data_gyr_y = (data + random.uniform(0, data*0.1))*100  # масштабировать к 100 deg/s и подмешать 10% шумов\n",
    "        data_gyr_z = (data + random.uniform(0, data*0.1))*100  # масштабировать к 100 deg/s и подмешать 10% шумов\n",
    "\n",
    "        self.Gyro[0].append(data_gyr_x)\n",
    "        self.Gyro[1].append(data_gyr_y)\n",
    "        self.Gyro[2].append(data_gyr_z)\n",
    "\n",
    "        if len(self.Acc[0]) > self.ValueLim:\n",
    "            self.Acc[0].pop(0)\n",
    "            self.Acc[1].pop(0)\n",
    "            self.Acc[2].pop(0)\n",
    "\n",
    "            self.Gyro[0].pop(0)\n",
    "            self.Gyro[1].pop(0)\n",
    "            self.Gyro[2].pop(0)\n",
    "        \n",
    "        self.IterNumber += 1\n",
    "        self.IterNumber = 1 if self.IterNumber > 360 else self.IterNumber # обнулить счетчик итераций если он стал > 360\n",
    "    #\n",
    "    #\n",
    "    #\n",
    "    def UpdateGraph( self, frame ):\n",
    "        self.UpdateDataIMU()\n",
    "        self.UpdatePropertyAxes()"
   ]
  },
  {
   "cell_type": "markdown",
   "id": "3112c63c",
   "metadata": {
    "tags": []
   },
   "source": [
    "### Далее идет блок кода который предназначен для демонстрации работы построителя графиков и отображения"
   ]
  },
  {
   "cell_type": "code",
   "execution_count": 5,
   "id": "e6f86ba9-6140-4731-8550-6415f53fe83b",
   "metadata": {
    "tags": []
   },
   "outputs": [],
   "source": [
    "# Создать объект 'options' для передачи в качестве аргумента в объект\n",
    "options_2 = {\n",
    "                'figsize': (8, 8),\n",
    "                'nrows': 3,\n",
    "                'suptitle': 'ГРАФИК ПОКАЗАНИЙ АКСЕЛЕРОМЕТРА',\n",
    "                'abscissa': 'N',\n",
    "                'ordinate': ('X', 'Y', 'Z'),\n",
    "                'facecolor': ('lightslategray', 'lightslategray', 'lightslategray'),\n",
    "                'alpha': (0.5, 0.5, 0.5),\n",
    "                'graphcolor': ('green', 'blue', 'red'),\n",
    "                'xlim': (0, 50),\n",
    "                'ylim': (-2, 2) }"
   ]
  },
  {
   "cell_type": "code",
   "execution_count": 6,
   "id": "32b4a3d7",
   "metadata": {
    "editable": true,
    "slideshow": {
     "slide_type": ""
    },
    "tags": []
   },
   "outputs": [
    {
     "data": {
      "application/vnd.jupyter.widget-view+json": {
       "model_id": "74b2648dfa264b77a08cf59593a7f915",
       "version_major": 2,
       "version_minor": 0
      },
      "image/png": "[encoded data removed]",
      "text/html": [
       "\n",
       "            <div style=\"display: inline-block;\">\n",
       "                <div class=\"jupyter-widgets widget-label\" style=\"text-align: center;\">\n",
       "                    Figure\n",
       "                </div>\n",
       "                <img src='data:image/png;base64,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' width=800.0/>\n",
       "            </div>\n",
       "        "
      ],
      "text/plain": [
       "Canvas(toolbar=Toolbar(toolitems=[('Home', 'Reset original view', 'home', 'home'), ('Back', 'Back to previous …"
      ]
     },
     "metadata": {},
     "output_type": "display_data"
    }
   ],
   "source": [
    "grafics_2D = Grafics2D( options_2 )\n",
    "grafics_2D.CreateVectorFigure()\n",
    "\n",
    "\n",
    "grafics_2D_anim = an.FuncAnimation(fig=grafics_2D.Figure, func=grafics_2D.UpdateGraph, interval=200, save_count=1500) # frames=50,\n",
    "plt.show()\n",
    "Codec = an.writers['ffmpeg']\n",
    "VideoParam = Codec(fps=15, bitrate=1800) #metadata={'artist': 'Me'}\n",
    "\n",
    "grafics_2D_anim.save('Line-Graph-Animation.mp4', VideoParam)\n",
    "\n"
   ]
  },
  {
   "cell_type": "raw",
   "id": "2da86c04-6a3e-4a93-bddd-0bd86eeb6289",
   "metadata": {
    "tags": []
   },
   "source": [
    " del(grafics_2D_anim)"
   ]
  }
 ],
 "metadata": {
  "kernelspec": {
   "display_name": "Python 3 (ipykernel)",
   "language": "python",
   "name": "python3"
  },
  "language_info": {
   "codemirror_mode": {
    "name": "ipython",
    "version": 3
   },
   "file_extension": ".py",
   "mimetype": "text/x-python",
   "name": "python",
   "nbconvert_exporter": "python",
   "pygments_lexer": "ipython3",
   "version": "3.11.7"
  }
 },
 "nbformat": 4,
 "nbformat_minor": 5
}
