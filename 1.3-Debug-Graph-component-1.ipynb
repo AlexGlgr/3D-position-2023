{
 "cells": [
  {
   "cell_type": "code",
   "execution_count": 3,
   "id": "133c55f9-2a60-4b19-9e6c-ace5ebebe67a",
   "metadata": {
    "tags": []
   },
   "outputs": [
    {
     "data": {
      "application/vnd.jupyter.widget-view+json": {
       "model_id": "9d7a691f8a9f4530a4935fb8fd9e668d",
       "version_major": 2,
       "version_minor": 0
      },
      "text/plain": [
       "HBox(children=(Label(value='X'), HTML(value='<div style=\"text-align: right; width: 100px; border: 3px solid #0…"
      ]
     },
     "metadata": {},
     "output_type": "display_data"
    }
   ],
   "source": [
    "import ipywidgets as widgets\n",
    "from IPython.display import display\n",
    "import random\n",
    "import time\n",
    "\n",
    "# Функция для обновления значений\n",
    "def update_values():\n",
    "    X_widget.value = f'<div style=\"text-align: right; width: 100px; border: 3px solid #000\"><span style=\"padding-right: 10px\">{random.uniform(-1000, 1000):.2f}</span></div>'\n",
    "    Y_widget.value = f'<div style=\"text-align: right; width: 100px; border: 3px solid #000\"><span style=\"padding-right: 10px\">{random.uniform(-1000, 1000):.2f}</span></div>'\n",
    "    Z_widget.value = f'<div style=\"text-align: right; width: 100px; border: 3px solid #000\"><span style=\"padding-right: 10px\">{random.uniform(-1000, 1000):.2f}</span></div>'\n",
    "    A_widget.value = ''\n",
    "    B_widget.value = ''\n",
    "\n",
    "# Создание виджетов для отображения значений переменных\n",
    "X_widget = widgets.HTML(value=f'<div style=\"text-align: right; width: 100px; border: 3px solid #000\"><span style=\"padding-right: 3px\">{random.uniform(-1000, 1000):.2f}</span></div>')\n",
    "Y_widget = widgets.HTML(value=f'<div style=\"text-align: right; width: 100px; border: 3px solid #000\"><span style=\"padding-right: 3px\">{random.uniform(-1000, 1000):.2f}</span></div>')\n",
    "Z_widget = widgets.HTML(value=f'<div style=\"text-align: right; width: 100px; border: 3px solid #000\"><span style=\"padding-right: 3px\">{random.uniform(-1000, 1000):.2f}</span></div>')\n",
    "A_widget = widgets.HTML(value='', layout=widgets.Layout(width='50px'))\n",
    "B_widget = widgets.HTML(value='', layout=widgets.Layout(width='50px'))\n",
    "\n",
    "# Отображение виджетов\n",
    "#display(widgets.HBox([X_widget, A_widget, Y_widget, B_widget, Z_widget]))\n",
    "display(widgets.HBox([widgets.Label(value='X'), X_widget, A_widget, widgets.Label(value='Y'), Y_widget, B_widget, widgets.Label(value='Z  '), Z_widget]))\n",
    "\n",
    "# Обновление значений каждую секунду\n",
    "for _ in range(10):\n",
    "    update_values()\n",
    "    time.sleep(1)"
   ]
  },
  {
   "cell_type": "markdown",
   "id": "38d91fe2-54f1-4ccf-8a81-436ca3698236",
   "metadata": {},
   "source": [
    "###  coment"
   ]
  },
  {
   "cell_type": "code",
   "execution_count": 2,
   "id": "23d58597-da9e-4035-9685-41a212a24150",
   "metadata": {
    "tags": []
   },
   "outputs": [
    {
     "data": {
      "application/vnd.jupyter.widget-view+json": {
       "model_id": "259bb045c7dc438f9d1dc87bbf73900f",
       "version_major": 2,
       "version_minor": 0
      },
      "text/plain": [
       "TemperatureWidget(value=20.0, description='Температура процессора', layout=Layout(margin='10px 0', width='50%'…"
      ]
     },
     "metadata": {},
     "output_type": "display_data"
    },
    {
     "name": "stdout",
     "output_type": "stream",
     "text": [
      "Температура : 41.042611055961586\n",
      "Температура : 38.33061737759786\n",
      "Температура : 38.5818672320721\n",
      "Температура : 23.614637478218313\n",
      "Температура : 73.64511830230087\n",
      "Температура : 79.19463390717502\n",
      "Температура : 74.90617658813248\n",
      "Температура : 48.56276682248083\n",
      "Температура : 39.366470414931406\n",
      "Температура : 50.50990846982555\n"
     ]
    }
   ],
   "source": [
    "import ipywidgets as widgets\n",
    "from IPython.display import display\n",
    "import colorsys\n",
    "import time\n",
    "import numpy as np\n",
    "import random\n",
    "\n",
    "\n",
    "class TemperatureWidget(widgets.FloatProgress):\n",
    "    def __init__(self, min_temp=20, max_temp=80, **kwargs):\n",
    "        super().__init__(min=min_temp, max=max_temp, **kwargs)\n",
    "        self.description = 'Температура процессора'\n",
    "        self.style.bar_color = 'lightblue'\n",
    "        self.orientation = 'horizontal'\n",
    "        self.layout.width = '50%'\n",
    "        self.layout.margin = '10px 0'\n",
    "        self.layout.description_width = '200px'\n",
    "        self.update_color()\n",
    "        self.observe(lambda change: self.update_color(), names='value')\n",
    "\n",
    "    def update_color(self):\n",
    "        h = (1.0 - (self.value - self.min) / (self.max - self.min)) * 0.4\n",
    "        r, g, b = colorsys.hsv_to_rgb(h, 1.0, 1.0)\n",
    "        color = f'#{int(r * 255):02x}{int(g * 255):02x}{int(b * 255):02x}'\n",
    "        self.style.bar_color = color\n",
    "\n",
    "temp_widget = TemperatureWidget()\n",
    "display(temp_widget)\n",
    "\n",
    "for temp in np.arange( 10 ):\n",
    "    #temp_widget.value = temp\n",
    "    temp_widget.value = random.uniform(20, 80)\n",
    "    print(f'Температура : {temp_widget.value}')\n",
    "    temp_widget.update_color()\n",
    "    time.sleep(0.7)"
   ]
  }
 ],
 "metadata": {
  "kernelspec": {
   "display_name": "Python 3 (ipykernel)",
   "language": "python",
   "name": "python3"
  },
  "language_info": {
   "codemirror_mode": {
    "name": "ipython",
    "version": 3
   },
   "file_extension": ".py",
   "mimetype": "text/x-python",
   "name": "python",
   "nbconvert_exporter": "python",
   "pygments_lexer": "ipython3",
   "version": "3.11.7"
  }
 },
 "nbformat": 4,
 "nbformat_minor": 5
}
