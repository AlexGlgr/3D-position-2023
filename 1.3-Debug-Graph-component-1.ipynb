{
 "cells": [
  {
   "cell_type": "code",
   "execution_count": 2,
   "id": "133c55f9-2a60-4b19-9e6c-ace5ebebe67a",
   "metadata": {
    "tags": []
   },
   "outputs": [
    {
     "data": {
      "application/vnd.jupyter.widget-view+json": {
       "model_id": "3f50fca44a9545769717db18a4fae72e",
       "version_major": 2,
       "version_minor": 0
      },
      "text/plain": [
       "HBox(children=(Label(value='X'), HTML(value='<div style=\"text-align: right; width: 100px; border: 3px solid #0…"
      ]
     },
     "metadata": {},
     "output_type": "display_data"
    }
   ],
   "source": [
    "import ipywidgets as widgets\n",
    "from IPython.display import display\n",
    "import random\n",
    "import time\n",
    "\n",
    "# Функция для обновления значений\n",
    "def update_values():\n",
    "    X_widget.value = f'<div style=\"text-align: right; width: 100px; border: 3px solid #000\"><span style=\"padding-right: 10px\">{random.uniform(-1000, 1000):.2f}</span></div>'\n",
    "    Y_widget.value = f'<div style=\"text-align: right; width: 100px; border: 3px solid #000\"><span style=\"padding-right: 10px\">{random.uniform(-1000, 1000):.2f}</span></div>'\n",
    "    Z_widget.value = f'<div style=\"text-align: right; width: 100px; border: 3px solid #000\"><span style=\"padding-right: 10px\">{random.uniform(-1000, 1000):.2f}</span></div>'\n",
    "    A_widget.value = ''\n",
    "    B_widget.value = ''\n",
    "\n",
    "# Создание виджетов для отображения значений переменных\n",
    "X_widget = widgets.HTML(value=f'<div style=\"text-align: right; width: 100px; border: 3px solid #000\"><span style=\"padding-right: 3px\">{random.uniform(-1000, 1000):.2f}</span></div>')\n",
    "Y_widget = widgets.HTML(value=f'<div style=\"text-align: right; width: 100px; border: 3px solid #000\"><span style=\"padding-right: 3px\">{random.uniform(-1000, 1000):.2f}</span></div>')\n",
    "Z_widget = widgets.HTML(value=f'<div style=\"text-align: right; width: 100px; border: 3px solid #000\"><span style=\"padding-right: 3px\">{random.uniform(-1000, 1000):.2f}</span></div>')\n",
    "A_widget = widgets.HTML(value='', layout=widgets.Layout(width='50px'))\n",
    "B_widget = widgets.HTML(value='', layout=widgets.Layout(width='50px'))\n",
    "\n",
    "# Отображение виджетов\n",
    "#display(widgets.HBox([X_widget, A_widget, Y_widget, B_widget, Z_widget]))\n",
    "display(widgets.HBox([widgets.Label(value='X'), X_widget, A_widget, widgets.Label(value='Y'), Y_widget, B_widget, widgets.Label(value='Z  '), Z_widget]))\n",
    "\n",
    "# Обновление значений каждую секунду\n",
    "for _ in range(10):\n",
    "    update_values()\n",
    "    time.sleep(1)"
   ]
  }
 ],
 "metadata": {
  "kernelspec": {
   "display_name": "Python 3 (ipykernel)",
   "language": "python",
   "name": "python3"
  },
  "language_info": {
   "codemirror_mode": {
    "name": "ipython",
    "version": 3
   },
   "file_extension": ".py",
   "mimetype": "text/x-python",
   "name": "python",
   "nbconvert_exporter": "python",
   "pygments_lexer": "ipython3",
   "version": "3.11.7"
  }
 },
 "nbformat": 4,
 "nbformat_minor": 5
}
