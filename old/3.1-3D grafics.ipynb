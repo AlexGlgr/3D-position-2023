{
 "cells": [
  {
   "cell_type": "markdown",
   "id": "8c8dc6ce-323a-4f00-8964-aff37480e863",
   "metadata": {
    "tags": []
   },
   "source": [
    "## МОДУЛЬ ПРЕДНАЗНАЧЕН ДЛЯ РАЗРАБОТКИ 3D СЦЕНЫ ПЛАТФОРМЫ "
   ]
  },
  {
   "cell_type": "code",
   "execution_count": 1,
   "id": "c216ac41-e6f1-4a96-a2aa-2513b187637d",
   "metadata": {
    "tags": []
   },
   "outputs": [
    {
     "data": {
      "text/html": [
       "<div id=\"glowscript\" class=\"glowscript\"></div>"
      ],
      "text/plain": [
       "<IPython.core.display.HTML object>"
      ]
     },
     "metadata": {},
     "output_type": "display_data"
    },
    {
     "data": {
      "application/javascript": [
       "if (typeof Jupyter !== \"undefined\") { window.__context = { glowscript_container: $(\"#glowscript\").removeAttr(\"id\")};}else{ element.textContent = ' ';}"
      ],
      "text/plain": [
       "<IPython.core.display.Javascript object>"
      ]
     },
     "metadata": {},
     "output_type": "display_data"
    }
   ],
   "source": [
    "import vpython as vp"
   ]
  },
  {
   "cell_type": "code",
   "execution_count": 10,
   "id": "4825a1ce-f085-434c-bb4e-3681a88e1a90",
   "metadata": {
    "tags": []
   },
   "outputs": [],
   "source": [
    "box1=vp.box(pos=vp.vector(0,0,0),size=vp.vector(2,2,2))\n",
    "box2=vp.box(pos=vp.vector(2,0,0),size=vp.vector(2,2,2))"
   ]
  }
 ],
 "metadata": {
  "kernelspec": {
   "display_name": "Python 3 (ipykernel)",
   "language": "python",
   "name": "python3"
  },
  "language_info": {
   "codemirror_mode": {
    "name": "ipython",
    "version": 3
   },
   "file_extension": ".py",
   "mimetype": "text/x-python",
   "name": "python",
   "nbconvert_exporter": "python",
   "pygments_lexer": "ipython3",
   "version": "3.11.4"
  }
 },
 "nbformat": 4,
 "nbformat_minor": 5
}
