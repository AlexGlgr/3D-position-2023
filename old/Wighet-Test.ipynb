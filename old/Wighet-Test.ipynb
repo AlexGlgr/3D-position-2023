{
 "cells": [
  {
   "cell_type": "code",
   "execution_count": null,
   "id": "15f1286e-939c-4c7d-9c1d-f3d27336d225",
   "metadata": {},
   "outputs": [],
   "source": [
    "import wighet as wg\n",
    "%matplotlib widget"
   ]
  },
  {
   "cell_type": "code",
   "execution_count": null,
   "id": "0b4a854b-b08e-4e48-91fe-8ee2246939bf",
   "metadata": {},
   "outputs": [],
   "source": []
  }
 ],
 "metadata": {
  "kernelspec": {
   "display_name": "Python 3 (ipykernel)",
   "language": "python",
   "name": "python3"
  },
  "language_info": {
   "codemirror_mode": {
    "name": "ipython",
    "version": 3
   },
   "file_extension": ".py",
   "mimetype": "text/x-python",
   "name": "python",
   "nbconvert_exporter": "python",
   "pygments_lexer": "ipython3",
   "version": "3.11.4"
  }
 },
 "nbformat": 4,
 "nbformat_minor": 5
}
