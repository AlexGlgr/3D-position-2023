{
 "cells": [
  {
   "cell_type": "code",
   "execution_count": null,
   "metadata": {},
   "outputs": [],
   "source": [
    "# Запуск сервера Deephaven\n",
    "from deephaven_server import Server\n",
    "s = Server(port=8080, jvm_args=[\"-Dauthentication.psk=ivan\"])\n",
    "s.start()"
   ]
  }
 ],
 "metadata": {
  "language_info": {
   "name": "python"
  }
 },
 "nbformat": 4,
 "nbformat_minor": 2
}
